{
 "cells": [
  {
   "cell_type": "markdown",
   "id": "b391742c",
   "metadata": {},
   "source": [
    "#Q1\n"
   ]
  },
  {
   "cell_type": "code",
   "execution_count": 1,
   "id": "e4bdc8e5",
   "metadata": {},
   "outputs": [
    {
     "name": "stdout",
     "output_type": "stream",
     "text": [
      "Sorted list [19, 19, 20, 22, 24, 24, 24, 25, 25, 26]\n",
      "Min ages: 19 \n",
      " Max ages: 26\n",
      "After adding min & max: [19, 19, 20, 22, 24, 24, 24, 25, 25, 26, 19, 26]\n",
      "Median of ages: 24.0\n",
      "Average age: 22.75\n",
      "Range: 7\n"
     ]
    }
   ],
   "source": [
    "import statistics\n",
    "ages=[19,22,19,24,20,25,26,24,25,24]\n",
    "#sort the list and find the min and max ages\n",
    "ages.sort()\n",
    "print(\"Sorted list\",ages)\n",
    "Min=min(ages)\n",
    "Max=max(ages)\n",
    "print(\"Min ages:\",Min,\"\\n\",\"Max ages:\",Max)\n",
    "#Add the min age and the max age again to the list\n",
    "ages.append(Min)\n",
    "ages.append(Max)\n",
    "print(\"After adding min & max:\",ages)\n",
    "#Find the median age\n",
    "Median=statistics.median(ages)\n",
    "print(\"Median of ages:\",Median)\n",
    "#Find the average age\n",
    "Sum=sum(ages);\n",
    "Length=len(ages);\n",
    "Average=Sum/Length;\n",
    "print(\"Average age:\",Average)\n",
    "#Find the range of the ages\n",
    "Range=Max-Min;\n",
    "print(\"Range:\",Range);"
   ]
  },
  {
   "cell_type": "markdown",
   "id": "fd34e0a9",
   "metadata": {},
   "source": [
    "# Q2"
   ]
  },
  {
   "cell_type": "code",
   "execution_count": 2,
   "id": "5b8a2d95",
   "metadata": {},
   "outputs": [
    {
     "name": "stdout",
     "output_type": "stream",
     "text": [
      "Length: 9\n",
      "student skills: ['My SQL', 'HTML', 'Java Script']\n",
      "Datatype of skills: <class 'list'>\n",
      "Modified skills: ['My SQL', 'HTML', 'Java Script', 'bootstrap', 'C++']\n",
      "Dictionary keys: ['first_name', 'last_name', 'gender', 'age', 'marital status', 'skills', 'country', 'city', 'address']\n",
      "Dictionary values: ['Haripriya', 'Eddala', 'Female', 24, 'Unmarried', ['My SQL', 'HTML', 'Java Script', 'bootstrap', 'C++'], 'India', 'Chittoor', 'Kapukandriga,pullur,chittoor-517167']\n"
     ]
    }
   ],
   "source": [
    "#Create an empty dictionary called dog\n",
    "Dog={}\n",
    "#Add name, color, breed, legs, age to the dog dictionary\n",
    "Dog.update({'Name':'Sophie','Color':'Black','Breed':'Poodle','Legs':'Four','Age':7})\n",
    "#Create a student dictionary and add first_name, last_name, gender, age, marital status,\n",
    "#skills, country, city and address as keys for the dictionary\n",
    "Student={'first_name':'Haripriya','last_name':'Eddala','gender':'Female','age':24,'marital status':'Unmarried',\n",
    "        'skills':[\"My SQL\",\"HTML\",\"Java Script\"],'country':'India','city':'Chittoor','address':'Kapukandriga,pullur,chittoor-517167'}\n",
    "#Get the length of the student dictionary\n",
    "print(\"Length:\",len(Student))\n",
    "#Get the value of skills and check the data type, it should be a list\\\n",
    "print(\"student skills:\",Student['skills'])\n",
    "print(\"Datatype of skills:\",type(Student['skills']))\n",
    "#Modify the skills values by adding one or two skills\n",
    "Student['skills'].extend([\"bootstrap\",\"C++\"])\n",
    "print(\"Modified skills:\",Student['skills'])\n",
    "#Get the dictionary keys as a list\n",
    "print(\"Dictionary keys:\",list(Student.keys()))\n",
    "#Get the dictionary values as a list\n",
    "print(\"Dictionary values:\",list(Student.values()))\n"
   ]
  },
  {
   "cell_type": "markdown",
   "id": "127ff7ab",
   "metadata": {},
   "source": [
    "# Q3"
   ]
  },
  {
   "cell_type": "code",
   "execution_count": 3,
   "id": "1edb9917",
   "metadata": {},
   "outputs": [
    {
     "name": "stdout",
     "output_type": "stream",
     "text": [
      "Sisters: ('Mouni', 'Sireesha', 'Deepthi', 'Harshi')\n",
      "Brothers: ('Srikanth', 'Jagadesh', 'Sai', 'Vishnu', 'Kittu')\n",
      "Siblings: ('Mouni', 'Sireesha', 'Deepthi', 'Harshi', 'Srikanth', 'Jagadesh', 'Sai', 'Vishnu', 'Kittu')\n",
      "Siblings count: 9\n",
      "family_members ('Mouni', 'Sireesha', 'Deepthi', 'Harshi', 'Srikanth', 'Jagadesh', 'Sai', 'Vishnu', 'Kittu', 'Hariprasad', 'Indhira')\n"
     ]
    }
   ],
   "source": [
    "#Create a tuple containing names of your sisters and your brothers\n",
    "Sisters=(\"Mouni\",\"Sireesha\",\"Deepthi\",\"Harshi\")\n",
    "Brothers=(\"Srikanth\",\"Jagadesh\",\"Sai\",\"Vishnu\",\"Kittu\")\n",
    "print(\"Sisters:\",Sisters)\n",
    "print(\"Brothers:\",Brothers)\n",
    "#Join brothers and sisters tuples and assign it to siblings\n",
    "Siblings=Sisters+Brothers\n",
    "print(\"Siblings:\",Siblings)\n",
    "#How many siblings do you have?\n",
    "Count=len(Siblings)\n",
    "print(\"Siblings count:\",Count)\n",
    "#Modify the siblings tuple and add the name of your father and mother and assign it to family_members\n",
    "Mother=\"Indhira\"\n",
    "Father=\"Hariprasad\"\n",
    "family_members=list(Siblings)\n",
    "family_members.append(Father)\n",
    "family_members.append(Mother)\n",
    "family_members=tuple(family_members)\n",
    "print(\"family_members\",family_members)\n"
   ]
  },
  {
   "cell_type": "markdown",
   "id": "ea1b5d90",
   "metadata": {},
   "source": [
    "# Q4"
   ]
  },
  {
   "cell_type": "code",
   "execution_count": 4,
   "id": "a8a61992",
   "metadata": {},
   "outputs": [
    {
     "name": "stdout",
     "output_type": "stream",
     "text": [
      "Lenth 7\n",
      "{'Facebook', 'Oracle', 'Twitter', 'Amazon', 'Apple', 'IBM', 'Google', 'Microsoft'}\n",
      "{'Apple', 'Google', 'Twitter', 'Amazon', 'cognizant', 'IBM', 'Facebook', 'Oracle', 'Infosys', 'Mphasis', 'Microsoft'}\n",
      "{'Apple', 'Google', 'Twitter', 'Amazon', 'cognizant', 'IBM', 'Facebook', 'Oracle', 'Mphasis', 'Microsoft'}\n",
      "Join A and B {19, 20, 22, 24, 25, 26, 27, 28}\n",
      "A intersection B {19, 20, 22, 24, 25, 26}\n",
      "A subset of B True\n",
      " A and B disjoint sets False\n",
      "Join A with B {19, 20, 22, 24, 25, 26, 27, 28} and Join B with A {19, 20, 22, 24, 25, 26, 27, 28}\n",
      "symmetric {27, 28}\n",
      "Length of list and set is same: False\n"
     ]
    }
   ],
   "source": [
    "IT_companies = {'Facebook', 'Google', 'Microsoft', 'Apple', 'IBM', 'Oracle', 'Amazon'}\n",
    "A = {19, 22, 24, 20, 25, 26}\n",
    "B = {19, 22, 20, 25, 26, 24, 28, 27}\n",
    "age = [22, 19, 24, 25, 26, 24, 25, 24]\n",
    "#Find the length of the set it_companies\n",
    "print(\"Lenth\",len(IT_companies))\n",
    "#Add 'Twitter' to it_companies\n",
    "IT_companies.add(\"Twitter\")\n",
    "print(IT_companies)\n",
    "#Insert multiple IT companies at once to the set it_companies\n",
    "Multiple_IT_companies=[\"Mphasis\",\"Infosys\",\"cognizant\"]\n",
    "IT_companies.update(Multiple_IT_companies)\n",
    "print(IT_companies)\n",
    "#Remove one of the companies from the set it_companies\n",
    "IT_companies.remove(\"Infosys\")\n",
    "print(IT_companies)\n",
    "#What is the difference between remove and discard\n",
    "#Remove:If the item to remove does not exist,remove() will raise an error\n",
    "#Discard:If the item to remove does not exist,remove() will NOT raise an error\n",
    "#Join A and B\n",
    "C=A.union(B)\n",
    "print(\"Join A and B\",C)\n",
    "#Find A intersection B\n",
    "D=A.intersection(B)\n",
    "print(\"A intersection B\",D)\n",
    "#Is A subset of B\n",
    "E=A.issubset(B)\n",
    "print(\"A subset of B\",E)\n",
    "#Are A and B disjoint sets\n",
    "F=A.isdisjoint(B)\n",
    "print(\" A and B disjoint sets\",F)\n",
    "#Join A with B and B with A\n",
    "G=B.union(A)\n",
    "print(\"Join A with B\",C,\"and Join B with A\",G)\n",
    "#What is the symmetric difference between A and B\n",
    "H=A.symmetric_difference(B)\n",
    "print(\"symmetric\",H)\n",
    "#Delete the sets completely\n",
    "del A,B\n",
    "#Convert the ages to a set and compare the length of the list and the set.\n",
    "I=set(age)\n",
    "print(\"Length of list and set is same:\",len(I)==len(age))\n",
    "\n"
   ]
  },
  {
   "cell_type": "markdown",
   "id": "7963e490",
   "metadata": {},
   "source": [
    "# Q5"
   ]
  },
  {
   "cell_type": "code",
   "execution_count": 5,
   "id": "8e4664d2",
   "metadata": {},
   "outputs": [
    {
     "name": "stdout",
     "output_type": "stream",
     "text": [
      "Area: 2827.4333882308138\n",
      "Circumference : 188.49555921538757\n",
      "Enter the radius value: 23\n",
      "for given radius =  23.0 \n",
      "Area : 1661.9025137490005\n"
     ]
    }
   ],
   "source": [
    "import math\n",
    "\n",
    "constant = math.pi\n",
    "radius=30\n",
    "\n",
    "#Calculate the area of a circle\n",
    "Area = constant*radius*radius\n",
    "print(\"Area:\",Area)\n",
    "\n",
    "#Circumference Finding\n",
    "circumference= 2 * constant * radius\n",
    "print(\"Circumference :\",circumference)\n",
    "\n",
    "#taking input (dynamically)\n",
    "new_radius = float(input(\"Enter the radius value: \"))\n",
    "Area = constant * new_radius * new_radius\n",
    "\n",
    "print(\"for given radius = \",new_radius,\"\\nArea :\",Area)\n",
    " "
   ]
  },
  {
   "cell_type": "markdown",
   "id": "f73cb7bd",
   "metadata": {},
   "source": [
    "# Q6"
   ]
  },
  {
   "cell_type": "code",
   "execution_count": 6,
   "id": "00306849",
   "metadata": {},
   "outputs": [
    {
     "name": "stdout",
     "output_type": "stream",
     "text": [
      "Set:  {'teach', 'am', 'and', 'people', 'to', 'I', 'inspire', 'love', 'a', 'teacher'}\n",
      "Number of unique words:  10\n"
     ]
    }
   ],
   "source": [
    "sentence = \"I am a teacher and I love to inspire and teach people\"\n",
    "\n",
    "#splitting the string for getting the individual elements\n",
    "Split = sentence.split(\" \")\n",
    "sp_set = set(Split)\n",
    "print(\"Set: \",sp_set)\n",
    "print(\"Number of unique words: \",len(sp_set))"
   ]
  },
  {
   "cell_type": "markdown",
   "id": "2055e636",
   "metadata": {},
   "source": [
    "# Q7"
   ]
  },
  {
   "cell_type": "code",
   "execution_count": 3,
   "id": "bb4aaa33",
   "metadata": {},
   "outputs": [
    {
     "name": "stdout",
     "output_type": "stream",
     "text": [
      "Name\t\tAge\t\tCountry\t\tCity\t\n",
      "Asabeneh\t250\t\tFinland\t\tHelsinki\n"
     ]
    }
   ],
   "source": [
    "print(\"Name\\t\\tAge\\t\\tCountry\\t\\tCity\\t\\nAsabeneh\\t250\\t\\tFinland\\t\\tHelsinki\")"
   ]
  },
  {
   "cell_type": "markdown",
   "id": "a2e547d3",
   "metadata": {},
   "source": [
    "# Q8"
   ]
  },
  {
   "cell_type": "code",
   "execution_count": 8,
   "id": "8939e103",
   "metadata": {},
   "outputs": [
    {
     "name": "stdout",
     "output_type": "stream",
     "text": [
      "The area of circle with radius 10 is 314 meters square.\n"
     ]
    }
   ],
   "source": [
    "radius = 10\n",
    "area = int(3.14 * radius ** 2)\n",
    "\n",
    "#sting formating\n",
    "formatted_area = 'The area of circle with radius {} is {} meters square.'.format(radius, area)  \n",
    "print(formatted_area)"
   ]
  },
  {
   "cell_type": "markdown",
   "id": "689e4bfc",
   "metadata": {},
   "source": [
    "# Q9"
   ]
  },
  {
   "cell_type": "code",
   "execution_count": 1,
   "id": "08c5d79d",
   "metadata": {},
   "outputs": [
    {
     "name": "stdout",
     "output_type": "stream",
     "text": [
      "Enter the length:150\n",
      "[67.5]\n"
     ]
    }
   ],
   "source": [
    " #Dynamically taking the input\n",
    "n = input('Enter the length:')\n",
    "lbs=n.split()\n",
    "\n",
    "# creating two lists one for lbs and other for kgs\n",
    "kgs = []\n",
    "for i in lbs:\n",
    "    kgs.append((int(i)*0.45));\n",
    "print(kgs)"
   ]
  },
  {
   "cell_type": "markdown",
   "id": "42cb8c4e",
   "metadata": {},
   "source": [
    "# Q10"
   ]
  },
  {
   "cell_type": "code",
   "execution_count": null,
   "id": "ed4595d2",
   "metadata": {},
   "outputs": [],
   "source": []
  }
 ],
 "metadata": {
  "kernelspec": {
   "display_name": "Python 3 (ipykernel)",
   "language": "python",
   "name": "python3"
  },
  "language_info": {
   "codemirror_mode": {
    "name": "ipython",
    "version": 3
   },
   "file_extension": ".py",
   "mimetype": "text/x-python",
   "name": "python",
   "nbconvert_exporter": "python",
   "pygments_lexer": "ipython3",
   "version": "3.9.13"
  }
 },
 "nbformat": 4,
 "nbformat_minor": 5
}
